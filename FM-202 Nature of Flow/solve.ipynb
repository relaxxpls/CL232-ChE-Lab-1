{
 "cells": [
  {
   "cell_type": "code",
   "execution_count": 3,
   "source": [
    "import math\r\n",
    "import numpy as np"
   ],
   "outputs": [],
   "metadata": {}
  },
  {
   "cell_type": "markdown",
   "source": [
    "# Raw data\r\n"
   ],
   "metadata": {}
  },
  {
   "cell_type": "code",
   "execution_count": 19,
   "source": [
    "D = 25e-3 # m\r\n",
    "L = 1.65 # m\r\n",
    "mu = 8.9e-4 # Pa*s\r\n",
    "rho = 1000 # kg/m^3\r\n",
    "\r\n",
    "H_corr = 6.38 - 4.28\r\n"
   ],
   "outputs": [],
   "metadata": {}
  },
  {
   "cell_type": "markdown",
   "source": [
    "# Experimental data"
   ],
   "metadata": {}
  },
  {
   "cell_type": "code",
   "execution_count": 18,
   "source": [
    "\r\n",
    "H1 = np.array([5.15, 4.75, 3.32, 4.44, 5.74, 4.58, 5.38, 4.68, 7.36]) # mm\r\n",
    "H2 = np.array([3.18, 4.48, 3.44, 4.86, 7.36, 8.34,10.68, 17.25, 28.52]) # mm\r\n",
    "\r\n",
    "vol = np.array([0.000353, 0.000767, 0.00118, 0.00148, 0.00212, 0.00248, 0.00365, 0.00528, 0.00775]) # m^3\r\n",
    "t = np.array([53.73, 34.25, 32.96, 35.14, 34.75, 38.26, 32.75, 33.45, 36.15]) # s"
   ],
   "outputs": [],
   "metadata": {}
  },
  {
   "cell_type": "code",
   "execution_count": 16,
   "source": [
    "Q = vol / t\r\n",
    "print(f'Volumetric flow rate: {Q} m^3/s')\r\n",
    "\r\n",
    "area = math.pi * D**2 / 4\r\n",
    "V = Q / area\r\n",
    "print(f'Velocity: {V} m/s')\r\n"
   ],
   "outputs": [
    {
     "output_type": "stream",
     "name": "stdout",
     "text": [
      "Volumetric flow rate: [6.56988647e-06 2.23941606e-05 3.58009709e-05 4.21172453e-05\n",
      " 6.10071942e-05 6.48196550e-05 1.11450382e-04 1.57847534e-04\n",
      " 2.14384509e-04] m^3/s\n",
      "Velocity: [0.01338406 0.04562101 0.07293314 0.08580055 0.12428284 0.13204952\n",
      " 0.22704485 0.32156435 0.43674054] m/s\n"
     ]
    }
   ],
   "metadata": {}
  },
  {
   "cell_type": "code",
   "execution_count": 17,
   "source": [
    "N_Re = rho * V * D / mu\r\n",
    "print(f\"Reynold's number: {N_Re}\")\r\n"
   ],
   "outputs": [
    {
     "output_type": "stream",
     "name": "stdout",
     "text": [
      "Reynold's number: [  375.95682055  1281.48902592  2048.68367894  2410.12774099\n",
      "  3491.09088654  3709.25609043  6377.66441483  9032.70660043\n",
      " 12267.99256742]\n"
     ]
    }
   ],
   "metadata": {}
  },
  {
   "cell_type": "code",
   "execution_count": null,
   "source": [
    "H_2_corr = H2 + H_corr\r\n",
    "delta_H_corr = H_2_corr - H1\r\n",
    "\r\n",
    "g = 9.81 # m/s^2\r\n",
    "\r\n",
    "delta_P = rho * g * delta_H_corr"
   ],
   "outputs": [],
   "metadata": {}
  }
 ],
 "metadata": {
  "orig_nbformat": 4,
  "language_info": {
   "name": "python",
   "version": "3.9.6",
   "mimetype": "text/x-python",
   "codemirror_mode": {
    "name": "ipython",
    "version": 3
   },
   "pygments_lexer": "ipython3",
   "nbconvert_exporter": "python",
   "file_extension": ".py"
  },
  "kernelspec": {
   "name": "python3",
   "display_name": "Python 3.9.6 64-bit"
  },
  "interpreter": {
   "hash": "63fd5069d213b44bf678585dea6b12cceca9941eaf7f819626cde1f2670de90d"
  }
 },
 "nbformat": 4,
 "nbformat_minor": 2
}
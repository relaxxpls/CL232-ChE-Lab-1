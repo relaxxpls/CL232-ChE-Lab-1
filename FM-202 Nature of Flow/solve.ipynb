{
 "cells": [
  {
   "cell_type": "code",
   "execution_count": 15,
   "source": [
    "import math\r\n",
    "import numpy as np"
   ],
   "outputs": [],
   "metadata": {}
  },
  {
   "cell_type": "markdown",
   "source": [
    "# Raw data\r\n"
   ],
   "metadata": {}
  },
  {
   "cell_type": "code",
   "execution_count": 16,
   "source": [
    "D = 25e-3 # m\r\n",
    "L = 1.65 # m\r\n",
    "mu = 8.9e-4 # Pa*s\r\n",
    "rho = 1000 # kg/m^3\r\n",
    "g = 9.81 # m/s^2\r\n",
    "\r\n",
    "H_corr = (6.38 - 4.28) * 1e-3 # m\r\n"
   ],
   "outputs": [],
   "metadata": {}
  },
  {
   "cell_type": "markdown",
   "source": [
    "# Experimental data"
   ],
   "metadata": {}
  },
  {
   "cell_type": "code",
   "execution_count": 17,
   "source": [
    "H1 = np.array([5.15, 4.75, 3.32, 4.44, 5.74, 4.58, 5.38, 4.68, 7.36]) * 1e-3 # m\r\n",
    "H2 = np.array([3.18, 4.48, 3.44, 4.86, 7.36, 8.34,10.68, 17.25, 28.52]) * 1e-3 # m\r\n",
    "\r\n",
    "vol = np.array([0.000353, 0.000767, 0.00118, 0.00148, 0.00212, 0.00248, 0.00365, 0.00528, 0.00775]) # m^3\r\n",
    "t = np.array([53.73, 34.25, 32.96, 35.14, 34.75, 38.26, 32.75, 33.45, 36.15]) # s"
   ],
   "outputs": [],
   "metadata": {}
  },
  {
   "cell_type": "code",
   "execution_count": 18,
   "source": [
    "Q = vol / t\r\n",
    "print(f'Volumetric flow rate: {Q} m^3/s')\r\n",
    "\r\n",
    "area = math.pi * D**2 / 4\r\n",
    "V = Q / area\r\n",
    "print(f'Velocity: {V} m/s')\r\n"
   ],
   "outputs": [
    {
     "output_type": "stream",
     "name": "stdout",
     "text": [
      "Volumetric flow rate: [6.56988647e-06 2.23941606e-05 3.58009709e-05 4.21172453e-05\n",
      " 6.10071942e-05 6.48196550e-05 1.11450382e-04 1.57847534e-04\n",
      " 2.14384509e-04] m^3/s\n",
      "Velocity: [0.01338406 0.04562101 0.07293314 0.08580055 0.12428284 0.13204952\n",
      " 0.22704485 0.32156435 0.43674054] m/s\n"
     ]
    }
   ],
   "metadata": {}
  },
  {
   "cell_type": "code",
   "execution_count": 19,
   "source": [
    "N_Re = rho * V * D / mu\r\n",
    "print(f\"Reynold's number: {N_Re}\")\r\n"
   ],
   "outputs": [
    {
     "output_type": "stream",
     "name": "stdout",
     "text": [
      "Reynold's number: [  375.95682055  1281.48902592  2048.68367894  2410.12774099\n",
      "  3491.09088654  3709.25609043  6377.66441483  9032.70660043\n",
      " 12267.99256742]\n"
     ]
    }
   ],
   "metadata": {}
  },
  {
   "cell_type": "code",
   "execution_count": 20,
   "source": [
    "H_2_corr = H2 + H_corr\r\n",
    "delta_H_corr = H_2_corr - H1\r\n",
    "\r\n",
    "delta_P = rho * g * delta_H_corr\r\n",
    "print(f'delta P: {delta_P}')"
   ],
   "outputs": [
    {
     "output_type": "stream",
     "name": "stdout",
     "text": [
      "delta P: [  1.2753  17.9523  21.7782  24.7212  36.4932  57.4866  72.594  143.9127\n",
      " 228.1806]\n"
     ]
    }
   ],
   "metadata": {}
  },
  {
   "cell_type": "code",
   "execution_count": 21,
   "source": [
    "f_exp = delta_P * D / (2 * rho * L * V**2)\r\n",
    "print(f'f (Experimental): {f_exp}')\r\n"
   ],
   "outputs": [
    {
     "output_type": "stream",
     "name": "stdout",
     "text": [
      "f (Experimental): [0.05393398 0.06534561 0.03101689 0.02543991 0.01789846 0.02497578\n",
      " 0.0106685  0.01054361 0.0090627 ]\n"
     ]
    }
   ],
   "metadata": {}
  },
  {
   "cell_type": "code",
   "execution_count": 22,
   "source": [
    "f_calc = []\r\n",
    "\r\n",
    "for Re in N_Re:\r\n",
    "    if Re <= 2100:\r\n",
    "        f = 16 / Re\r\n",
    "        f_calc.append(f)\r\n",
    "    else:\r\n",
    "        f = 0.0014 + 0.125 * Re**(-0.32)\r\n",
    "        f_calc.append(f)\r\n",
    "\r\n",
    "print(f'f (Calculated): {f_calc}')"
   ],
   "outputs": [
    {
     "output_type": "stream",
     "name": "stdout",
     "text": [
      "f (Calculated): [0.04255807881497671, 0.012485475627516408, 0.007809892842158002, 0.011743254083280218, 0.010586761534283576, 0.010410278837055937, 0.008975621722908453, 0.00817716850341045, 0.007544725570930351]\n"
     ]
    }
   ],
   "metadata": {}
  },
  {
   "cell_type": "code",
   "execution_count": 32,
   "source": [
    "V_calc_sq = delta_P * D / (2.0 * rho * L)\r\n",
    "V_calc_sq /= f_calc\r\n",
    "V_calc = np.sqrt(V_calc_sq)\r\n",
    "\r\n",
    "print(f'Velocity calculated: {V_calc}')\r\n",
    "\r\n",
    "Q_calc = V_calc * area\r\n",
    "print(f'Flow rate calculated: {Q_calc}')\r\n"
   ],
   "outputs": [
    {
     "output_type": "stream",
     "name": "stdout",
     "text": [
      "Velocity calculated: [0.01506705 0.10436876 0.14534547 0.12628553 0.16159854 0.20453384\n",
      " 0.24753187 0.36514144 0.47866389]\n",
      "Flow rate calculated: [7.39602049e-06 5.12318969e-05 7.13462886e-05 6.19902629e-05\n",
      " 7.93244996e-05 1.00400312e-04 1.21506924e-04 1.79238384e-04\n",
      " 2.34963590e-04]\n"
     ]
    }
   ],
   "metadata": {}
  },
  {
   "cell_type": "code",
   "execution_count": null,
   "source": [],
   "outputs": [],
   "metadata": {}
  }
 ],
 "metadata": {
  "orig_nbformat": 4,
  "language_info": {
   "name": "python",
   "version": "3.9.6",
   "mimetype": "text/x-python",
   "codemirror_mode": {
    "name": "ipython",
    "version": 3
   },
   "pygments_lexer": "ipython3",
   "nbconvert_exporter": "python",
   "file_extension": ".py"
  },
  "kernelspec": {
   "name": "python3",
   "display_name": "Python 3.9.6 64-bit"
  },
  "interpreter": {
   "hash": "63fd5069d213b44bf678585dea6b12cceca9941eaf7f819626cde1f2670de90d"
  }
 },
 "nbformat": 4,
 "nbformat_minor": 2
}
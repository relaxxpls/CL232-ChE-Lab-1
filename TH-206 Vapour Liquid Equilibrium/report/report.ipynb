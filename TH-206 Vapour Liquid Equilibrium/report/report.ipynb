{
 "cells": [
  {
   "cell_type": "markdown",
   "id": "810ea750-fc80-4b50-99cf-5966975eaf93",
   "metadata": {},
   "source": [
    "# Objectives\n",
    "\n",
    "1. Determine the vapour-liquid equilibrium data for the acetone (A) benzene (B) homogeneous mixture\n",
    "2. Check the thermodynamic consistency of the data using the Gibbs Duhem Equation\n",
    "3. Present the thermodynamic characteristics and constants of Van-Laar equation for the system\n",
    "\n",
    "# Procedure\n",
    "\n",
    "1. Prepare 9 solutions of acetone and benzene having different volume fraction of acetone.\n",
    "2. Measure the refractive index of the solutions using a refractometer, take three readings for each solution of acetone and benzene.\n",
    "3. Now prepare a solution by adding approximately 480 ml of acetone and 120 ml of benzene so that the solution level is same as the level of cotrell pump.\n",
    "4. Now pour the solution in the still and put the voltage value to 120V and wait for it to reach a steady temperature.\n",
    "5. Put the voltage value to 80-85V when it starts boiling. \n",
    "6. Dispose off the liquid and vapor solution collected by cotrell pump and condenser i.e purge the obtained liquid and vapor solution once..\n",
    "7. Collect the liquid and vapour solution and put the voltage value to zero and measure their refractive index.\n",
    "8. Remove some amount of solution from the still and add some benzene to it and set the voltage value to 120 and then repeat step 5, 6.\n",
    "9. Take four such readings by removing some amount of the solution and adding the same amount of the benzene to it every time.\n",
    "\n",
    "# Set-Up Assembly\n",
    "\n",
    "# Results\n",
    "\n",
    "## Raw Data\n",
    "\n",
    "**Table 1: Properties of Components**\n",
    "\n",
    "<!-- \n",
    "| Property |Acetone |Benzene\n",
    "|--------|--------|----|\n",
    "| Density|729 kg/m^3^|879 kg/m^3^\n",
    "|Molar mass|58.08 g|78.11 g|\n",
    "|Boiling Point|56.2 °C|81.1 °C|\n",
    "|R.I at 30 °C|1.3545|1.4951|\n",
    " -->\n",
    " \n",
    "**Table 2: Calibration Curve Data**\n",
    "\n",
    "<!-- V~A~:V~B~|Refractive Index - Reading 1|Refractive Index - Reading 2|Refractive Index - Reading 3|Average Refractive Index|\n",
    "|-|-|-|-|-|\n",
    "|Pure A|1.351791|1.351891|1.351691|1.351791|\n",
    "|9:1|1.364765|1.364765|1.364066|1.364532\n",
    "|8:2|1.38243|1.382929|1.383827|1.383062\n",
    "|7:3|1.400394|1.399296|1.400593|1.40009433\n",
    "|6:4|1.416661|1.415763|1.417459|1.41662767\n",
    "|5:5|1.437419|1.43732|1.440513|1.43841733\n",
    "|4:6|1.443108|1.445004|1.443607|1.44390633\n",
    "|3:7|1.454685|1.4472|1.454884|1.45225633\n",
    "|2:8|1.471052|1.471551|1.471351|1.471318\n",
    "|1:9|1.484525|1.483427|1.484425| 1.48412567 \n",
    "|Pure B|1.491711|1.492709|1.49201|1.49214333 -->\n",
    "\n",
    "## Derived Data\n",
    "\n",
    "### Mol Fraction from Vol Fraction\n",
    "\n",
    "We calculated the mole fractions from the volume ratios as follows:\n",
    "\n",
    "\\begin{equation}\n",
    "    \\begin{split}\n",
    "        \\frac{V_A}{V_B}&=\\beta \\:\\:\\:(\\rm say)\\\\\n",
    "        \\frac{m_A/\\rho_A}{m_B/\\rho_B}&=\\beta\\\\\n",
    "        \\frac{m_A}{m_B}&=\\beta\\frac{\\rho_A}{\\rho_B}\\\\\n",
    "        \\frac{n_AM_A}{n_BM_B}&=\\beta\\frac{\\rho_A}{\\rho_B}\\\\\n",
    "        \\frac{n_A}{n_B}&=\\beta\\frac{\\rho_A}{\\rho_B}\\frac{M_B}{M_A}\\\\\n",
    "        \\implies n_B&=\\frac{\\rho_BM_A}{\\beta\\rho_AM_B}n_A\\\\\n",
    "        \\because x_A&=\\frac{n_A}{n_A+n_B},\\:\\:\\rm we\\: get:\\\\\n",
    "        x_A = \\frac{n_A}{n_A+\\frac{\\rho_BM_A}{\\beta\\rho_AM_B}n_A}&=\\frac{\\beta\\rho_AM_B}{\\beta\\rho_AM_B+\\rho_BM_A}\n",
    "    \\end{split}\n",
    "\\end{equation}\n",
    "\n",
    "For the first value of $\\beta=9$, the above formula yielded $x_A=0.909$. The *average* refractive index (RI) was plotted against $x_A$ and a linear regression was carried out.\n",
    "\n",
    "### Saturation Pressure from Antoine's Equation:\n",
    "\n",
    "The form of Antoine's equation obtained from Smith and Van-Ness is as follows:\n",
    "\n",
    "\\begin{equation}\n",
    "    \\ln{P^{sat}}(kPa)=A-\\frac{B}{T(^{\\circ}C)+C}\n",
    "\\end{equation}\n",
    "\n",
    "The constants for A (acetone) are:\n",
    "A = 14.3145; B = 2756.22; C =228.060\n",
    "while for B (benzene) they are:\n",
    "A = 13.7819; B = 2726.81; C = 217.572\n",
    "\n",
    "### Activity Coefficient from Modified Raoult's Law:\n",
    "\n",
    "The statement of the Modified Raoult's Law reads:\n",
    "\n",
    "\\begin{equation}\n",
    "    \\begin{split}\n",
    "        x_A\\gamma_AP_A^{sat}&=y_A\\pi_A\\\\\n",
    "        \\implies \\gamma_A&=\\frac{y_A\\pi_A}{x_AP_A^{sat}}\n",
    "    \\end{split}\n",
    "\\end{equation}\n",
    "\n",
    "\n",
    "### Van-Laar Constants from Data:\n",
    "\n",
    "The Van-Laar constants are given by:\n",
    "\n",
    "\\begin{equation}\n",
    "    \\begin{split}\n",
    "            a&=\\log{\\gamma_A}\\left[1+\\frac{x_B\\log{\\gamma_B}}{x_A\\log{\\gamma_A}}\\right]^2\\\\\n",
    "        b&=\\log{\\gamma_B}\\left[1+\\frac{x_A\\log{\\gamma_A}}{x_B\\log{\\gamma_B}}\\right]^2\n",
    "    \\end{split}\n",
    "\\end{equation}\n",
    "\n",
    "# Observations:\n",
    "* The refractive index of the mixture shows a linear relation with the volume (and thus mole) fraction of acetone. As the mol fraction of acetone decreases, the refractive index increases.\n",
    "* As the mole fraction of acetone (more volatile component) decreases, the VLE temperature increases.\n",
    "\n",
    "# Hypothesis & Conclusion:\n",
    "\n",
    "One hypothesis made at the start was that data follows thermodynamic consistency. The way to check that is by the integral test (Gibb's-Duhem Equation):\n",
    "\n",
    "\\begin{equation}\n",
    "    \\int_{0}^{1}\\ln{\\frac{\\gamma_A}{\\gamma_B}}dx_a=0\n",
    "\\end{equation}\n",
    "\n",
    "To that extent, $\\ln{(\\gamma_a/\\gamma_b)}$ v/s $x_a$ was plotted and the area bound was measured. The value deviated from 0 and thus, thermodynmic consistency is **not** followed.\n",
    "\n",
    "*Some part might be because of experimental error, and it could be rectified by taking more data points.*\n",
    "\n",
    "Another aim was to calculate the Van-Laar constants. For experiment run (ie each VLE established), the constants were calculated using the formulae mentioned above. The values came out as:\n",
    "\n",
    "<!-- |Temperature of VLE| a | b|\n",
    "|-|-|-|\n",
    "58.2|-0.24528301 |0.22597255 | \n",
    "59.9|-1.21972077 |0.30300295 | \n",
    "60.8|0.37331584 | 1.48697511| \n",
    "63|0.57097702 | 0.52717326| \n",
    "65.2|18.02423931 | 0.24962263| \n",
    "68.1| 1.5925| 0.29139089|  -->\n",
    "\n",
    "It is expected that the Van-Laar constants should stay the same irrespective of the temperature/mol fraction of the VLE for the same mixture components. However, there is a clear deviation in both $a\\:\\&\\:b$ once again proving thermodynamic inconsistency.\n",
    "\n",
    "# Solve\n"
   ]
  },
  {
   "cell_type": "code",
   "execution_count": 1,
   "id": "dfb6fa04-214d-4273-a51f-cbc577fa0bdb",
   "metadata": {},
   "outputs": [],
   "source": [
    "import numpy as np\n",
    "import matplotlib.pyplot as plt\n",
    "from sklearn.linear_model import LinearRegression\n",
    "from scipy import interpolate"
   ]
  },
  {
   "cell_type": "markdown",
   "id": "8940c58e-f068-4713-984a-041f8da1d6e7",
   "metadata": {},
   "source": [
    "* A = Acetone\n",
    "* B = Benzene"
   ]
  },
  {
   "cell_type": "code",
   "execution_count": 2,
   "id": "db4eec16-3672-4e92-8477-448a12d52ad6",
   "metadata": {},
   "outputs": [],
   "source": [
    "rho_A = 729 # kg/m^3\n",
    "rho_B = 879 # kg/m^3\n",
    "\n",
    "# ? Molecular weight\n",
    "M_A = 58.08 # g/mol\n",
    "M_B = 78.11 # g/mol"
   ]
  },
  {
   "cell_type": "markdown",
   "id": "6a52d965-d938-4ff6-b9b5-dcfe564e122f",
   "metadata": {},
   "source": [
    "## Calibration curve\n"
   ]
  },
  {
   "cell_type": "code",
   "execution_count": 3,
   "id": "da375eb6-346b-41cc-9ccd-2f368ac8e8c8",
   "metadata": {},
   "outputs": [
    {
     "name": "stdout",
     "output_type": "stream",
     "text": [
      "Mole fraction of Acetone:  [1.         0.90940653 0.81689935 0.72241717 0.62589606 0.5272693\n",
      " 0.42646723 0.32341707 0.21804277 0.11026481 0.        ]\n"
     ]
    }
   ],
   "source": [
    "# Volume ratio\n",
    "VR = [9/1, 8/2, 7/3, 6/4, 5/5, 4/6, 3/7, 2/8, 1/9]\n",
    "VR = np.array(VR)\n",
    "VR = VR * (rho_A / M_A) / (rho_B / M_B)\n",
    "VR_A = [(r / (r+1.0)) for r in VR]\n",
    "VR_A = [1.0, *VR_A, 0.0]\n",
    "\n",
    "# x = [0, 0.1, 0.2, 0.3, 0.4, 0.5, 0.6, 0.7, 0.8, 0.9, 1]\n",
    "x_A = np.array(VR_A)\n",
    "print(\"Mole fraction of Acetone: \", x_A)\n",
    "\n",
    "RI_1 = [1.351791, 1.364765, 1.38243, 1.400394, 1.416661, 1.437419,\n",
    "    1.443108, 1.454685, 1.471052, 1.484525, 1.491711]\n",
    "\n",
    "RI_2 = [1.351891, 1.364765, 1.382929, 1.399296, 1.415763, \n",
    "        1.43732, 1.445004, 1.4472, 1.471551, 1.483427, 1.492709]\n",
    "\n",
    "RI_3 = [1.351691, 1.364066, 1.383827, 1.400593, 1.417459, 1.440513,\n",
    "    1.443607, 1.454884, 1.471351, 1.484425, 1.49201]\n",
    "\n",
    "y = np.mean([RI_1, RI_2, RI_3], axis=0)\n"
   ]
  },
  {
   "cell_type": "code",
   "execution_count": 4,
   "id": "a0d1c3c9-7e31-4d03-a4b5-7a9308f5f816",
   "metadata": {},
   "outputs": [
    {
     "name": "stdout",
     "output_type": "stream",
     "text": [
      "slope: [-0.14296434], intercept: 1.5009384465620594\n"
     ]
    },
    {
     "data": {
      "image/png": "[encoded data removed]",
      "text/plain": [
       "<Figure size 432x288 with 1 Axes>"
      ]
     },
     "metadata": {
      "needs_background": "light"
     },
     "output_type": "display_data"
    }
   ],
   "source": [
    "reg = LinearRegression().fit(x_A.reshape(-1, 1), y)\n",
    "m = reg.coef_\n",
    "c = reg.intercept_\n",
    "\n",
    "y_pred = m*x_A + c\n",
    "\n",
    "plt.title('Refractive index vs mole fraction')\n",
    "plt.xlabel('Mole fraction of A ($X_A$)')\n",
    "plt.ylabel('Refractive index (RI)')\n",
    "plt.plot(x_A, y, 'o-k')\n",
    "plt.plot(x_A, y_pred, '-r')\n",
    "\n",
    "print(f\"slope: {reg.coef_}, intercept: {reg.intercept_}\")"
   ]
  },
  {
   "cell_type": "code",
   "execution_count": 5,
   "id": "665c346b-f436-42aa-9f9e-0e75c3d247ce",
   "metadata": {},
   "outputs": [
    {
     "name": "stdout",
     "output_type": "stream",
     "text": [
      "Average mole fraction of vapour A (at various temp): [0.87641051 0.73656211 0.69421122 0.62068006 0.48920905 0.3907789 ]\n",
      "Average mole fraction of liquid A (at various temp): [0.822889   0.66047087 0.45616584 0.40497592 0.35517795 0.19438727]\n"
     ]
    }
   ],
   "source": [
    "T = [58.2, 59.9, 60.8, 63.0, 65.2, 68.1]\n",
    "T = np.array(T)\n",
    "T += 273.15\n",
    "\n",
    "RI_vap_1 = [1.376541, 1.395104, 1.404485, 1.407679, 1.431531, 1.442809]\n",
    "RI_vap_2 = [1.375044, 1.396002, 1.399895, 1.414266, 1.431831, 1.445703]\n",
    "RI_vap_3 = [1.375344, 1.395803, 1.400693, 1.414665, 1.429635, 1.446701]\n",
    "RI_vap = np.mean([RI_vap_1, RI_vap_2, RI_vap_3], axis=0)\n",
    "Y_A = (RI_vap - c) / m\n",
    "Y_B = 1 - Y_A\n",
    "\n",
    "RI_liq_1 = [1.382729, 1.403787, 1.434326, 1.444006, 1.449495, 1.473048]\n",
    "RI_liq_2 = [1.381831, 1.407579, 1.436621, 1.441611, 1.450194, 1.473747]\n",
    "RI_liq_3 = [1.385324, 1.408178, 1.436222, 1.443507, 1.450793, 1.472649]\n",
    "RI_liq = np.mean([RI_liq_1, RI_liq_2, RI_liq_3], axis=0)\n",
    "X_A = (RI_liq - c) / m\n",
    "X_B = 1 - X_A\n",
    "\n",
    "print(\"Average mole fraction of vapour A (at various temp):\", Y_A)\n",
    "print(\"Average mole fraction of liquid A (at various temp):\", X_A)"
   ]
  },
  {
   "cell_type": "markdown",
   "id": "f4e0b846-b792-4286-9164-1ba29752e1d0",
   "metadata": {},
   "source": [
    "## Calculate $P_{sat}$\n",
    "\n",
    "* Antoine Equation: $log_{10}(P) = A − \\frac{B}{T + C}$\n",
    "\n",
    "### Acetone\n",
    "\n",
    "* A = 4.42448\n",
    "* B = 1312.253\n",
    "* C = -32.445\n",
    "* reference: *Ambrose, Sprake, et al., 1974*\n",
    "\n",
    "### Benzene\n",
    "\n",
    "* A = 4.725\n",
    "* B = 1660.652\n",
    "* C = -1.461\n",
    "* reference: *Eon, Pommier, et al., 1971*\n"
   ]
  },
  {
   "cell_type": "code",
   "execution_count": 6,
   "id": "1a073693-cf1f-449e-8ec5-f483c275c182",
   "metadata": {},
   "outputs": [
    {
     "name": "stdout",
     "output_type": "stream",
     "text": [
      "Saturation pressure of Acetone: [1.08114159 1.14474676 1.17961343 1.26842971 1.36250982 1.49493862]\n",
      "Saturation pressure of Benzene: [0.49096359 0.52102362 0.5375436  0.57975479 0.62466361 0.68820318]\n"
     ]
    }
   ],
   "source": [
    "log10_Psat_A = 4.424 - 1312.25 / (T - 32.44)\n",
    "Psat_A = np.power(10, log10_Psat_A)\n",
    "print(\"Saturation pressure of Acetone:\", Psat_A)\n",
    "\n",
    "log10_Psat_B = 4.725 - 1660.65 / (T - 1.46)\n",
    "Psat_B = np.power(10, log10_Psat_B)\n",
    "print(\"Saturation pressure of Benzene:\", Psat_B)"
   ]
  },
  {
   "cell_type": "code",
   "execution_count": 7,
   "id": "79d5e24b-4495-400d-bebd-0fb9307037b5",
   "metadata": {},
   "outputs": [
    {
     "name": "stdout",
     "output_type": "stream",
     "text": [
      "ln(gamma_A): [-0.01500423 -0.0261429   0.25473305  0.18920846  0.01084251  0.2962044 ]\n",
      "ln(gamma_B): [0.35157418 0.39821779 0.04499565 0.09492817 0.23752803 0.09424926]\n"
     ]
    }
   ],
   "source": [
    "gamma_A = (Y_A * 1) / (Psat_A * X_A)\n",
    "ln_gamma_A = np.log(gamma_A)\n",
    "print(\"ln(gamma_A):\", ln_gamma_A)\n",
    "\n",
    "# Psat_B *= 1.3\n",
    "gamma_B = (Y_B * 1) / (Psat_B * X_B)\n",
    "ln_gamma_B = np.log(gamma_B)\n",
    "print(\"ln(gamma_B):\", ln_gamma_B)"
   ]
  },
  {
   "cell_type": "code",
   "execution_count": 8,
   "id": "4bf97327-1c95-40a5-9184-8abe75f06a97",
   "metadata": {},
   "outputs": [
    {
     "data": {
      "image/png": "[encoded data removed]",
      "text/plain": [
       "<Figure size 432x288 with 1 Axes>"
      ]
     },
     "metadata": {
      "needs_background": "light"
     },
     "output_type": "display_data"
    }
   ],
   "source": [
    "plt.axhline(y=0, color='k')\n",
    "plt.plot(X_A, ln_gamma_A, 'o-b', label=\"Acetone\")\n",
    "plt.plot(X_A, ln_gamma_B, 'o-g', label=\"Benzene\")\n",
    "plt.legend()\n",
    "plt.xlabel(\"Mole fraction of Acetone\")\n",
    "plt.ylabel(\"ln($\\gamma$)\")\n",
    "plt.title(\"Mole fraction of Acetone vs ln($\\gamma$)\")\n",
    "plt.show()"
   ]
  },
  {
   "cell_type": "code",
   "execution_count": 9,
   "id": "301b7702-a318-4045-8835-6e894a9dcf67",
   "metadata": {},
   "outputs": [
    {
     "data": {
      "image/png": "[encoded data removed]",
      "text/plain": [
       "<Figure size 432x288 with 1 Axes>"
      ]
     },
     "metadata": {
      "needs_background": "light"
     },
     "output_type": "display_data"
    }
   ],
   "source": [
    "delta_ln_gamma = ln_gamma_A-ln_gamma_B\n",
    "\n",
    "plt.axhline(y=0, color='k')\n",
    "plt.plot(X_A, delta_ln_gamma, 'o-k')\n",
    "plt.xlabel(\"Mole fraction of Acetone\")\n",
    "plt.ylabel(\"ln($\\gamma_A$) - ln($\\gamma_B$)\")\n",
    "plt.title(\"Mole fraction of Acetone vs $\\Delta$ ln($\\gamma$)\")\n",
    "plt.fill_between(X_A, 0, delta_ln_gamma)\n",
    "plt.show()"
   ]
  },
  {
   "cell_type": "code",
   "execution_count": 10,
   "id": "764441e4-d649-4adf-88c3-a047b9353efa",
   "metadata": {},
   "outputs": [
    {
     "name": "stdout",
     "output_type": "stream",
     "text": [
      "Area: -0.14447233309865778\n"
     ]
    },
    {
     "data": {
      "image/png": "[encoded data removed]",
      "text/plain": [
       "<Figure size 432x288 with 1 Axes>"
      ]
     },
     "metadata": {
      "needs_background": "light"
     },
     "output_type": "display_data"
    }
   ],
   "source": [
    "spline = interpolate.interp1d(X_A, delta_ln_gamma, kind='cubic')\n",
    "\n",
    "x_inter = np.linspace(0.2, 0.8, 300)\n",
    "y_inter = spline(x_inter)\n",
    "\n",
    "plt.axhline(y=0, color='k')\n",
    "plt.plot(x_inter, y_inter, '-b')\n",
    "plt.title(\"Mole fraction of Acetone vs $\\Delta$ ln($\\gamma$) after spline interpolation\")\n",
    "plt.xlabel(\"Mole fraction of Acetone\")\n",
    "plt.ylabel(\"ln($\\gamma_A$) - ln($\\gamma_B$)\")\n",
    "\n",
    "area = 0\n",
    "for i in range(len(x_inter)-1):\n",
    "    area += (y_inter[i])*(x_inter[i+1]-x_inter[i])\n",
    "\n",
    "print(\"Area:\", area)"
   ]
  },
  {
   "cell_type": "code",
   "execution_count": 11,
   "id": "439c621f-b25d-42fb-aad1-86a92a599bf6",
   "metadata": {},
   "outputs": [
    {
     "name": "stdout",
     "output_type": "stream",
     "text": [
      "Van Laar coeffecients\n",
      "a: [-0.24528301 -1.21972077  0.37331584  0.57097702 18.02423931  1.5925    ]\n",
      "b: [0.22597255 0.30300295 1.48697511 0.52717326 0.24962263 0.29139089]\n"
     ]
    }
   ],
   "source": [
    "alpha = (X_B * ln_gamma_B) / (X_A * ln_gamma_A)\n",
    "a = ln_gamma_A * (1 + alpha)**2\n",
    "b = ln_gamma_B * (1 + 1.0/alpha)**2\n",
    "\n",
    "print(f\"Van Laar coeffecients\")\n",
    "print(f\"a: {a}\")\n",
    "print(f\"b: {b}\")"
   ]
  },
  {
   "cell_type": "code",
   "execution_count": 12,
   "id": "f269403a-80bf-4152-b638-eab46d702f8c",
   "metadata": {},
   "outputs": [
    {
     "name": "stdout",
     "output_type": "stream",
     "text": [
      "Residual:  [0.04992084 0.11793991 0.14067069 0.13310942 0.15701433 0.13350677]\n"
     ]
    }
   ],
   "source": [
    "residual = X_A * ln_gamma_A + X_B * ln_gamma_B\n",
    "print('Residual: ', residual)"
   ]
  },
  {
   "cell_type": "code",
   "execution_count": 13,
   "id": "ca769681-348b-411d-a4c7-48e2e4f0c737",
   "metadata": {},
   "outputs": [
    {
     "name": "stdout",
     "output_type": "stream",
     "text": [
      "K_A:  [1.06504098 1.11520756 1.52183956 1.5326345  1.37736322 2.01031122]\n"
     ]
    }
   ],
   "source": [
    "K_A = Y_A / X_A\n",
    "print (\"K_A: \" , K_A)"
   ]
  }
 ],
 "metadata": {
  "kernelspec": {
   "display_name": "Python 3",
   "language": "python",
   "name": "python3"
  },
  "language_info": {
   "codemirror_mode": {
    "name": "ipython",
    "version": 3
   },
   "file_extension": ".py",
   "mimetype": "text/x-python",
   "name": "python",
   "nbconvert_exporter": "python",
   "pygments_lexer": "ipython3",
   "version": "3.9.6"
  }
 },
 "nbformat": 4,
 "nbformat_minor": 5
}

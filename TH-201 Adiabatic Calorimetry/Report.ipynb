{
 "cells": [
  {
   "cell_type": "markdown",
   "id": "d84c1242-a4d2-42fb-8e55-2aab8baf255b",
   "metadata": {},
   "source": [
    "# Objectives\n",
    "\n",
    "1. To determine heat of mixing of binary mixture using an adiabatic caloriemeter\n",
    "2. To determine the water equivalent of calorimeter and finding the specific heat capacity of solution.\n",
    "    \n",
    "2. To determine the partial molar enthalpy of water and acetone at x=0.5 and partial enthalpy of mixing at infinite dilution.\n",
    "\n",
    "# Notes on the Procedure\n",
    "\n",
    "1. Rinse the cylindrical container using the chemical to be poured in it. Reserve one container for each chemical.\n",
    "2. Check whether the stirrer works properly.\n",
    "3. Calculate the volume of each component required for each value of concentration.\n",
    "4. Determine the water equivalent of the flask by taking 150ml of distilled water\n",
    "5. Pour the required volume of bulk solvent (component with higher mole fraction) into the adiabatic calorimeter and take the steady temperature reading (T0). \n",
    "6. Pour the required volume of other component in the adiabatic calorimeter and start the power source and stopwatch. Note the voltage, current and temperature reading at this starting point (T1).\n",
    "7. Note the time taken for 2$^{\\circ}$C rise in temperature by stopping stopwatch after 2$^{\\circ}$C rise.\n",
    "8. Dispose off the solution in the waste solution container.\n",
    "9. Wipe off the heating element and the temperature sensor properly before taking the next reading\n",
    "10. Repeat the experiment for different set of values of mole fraction. \n",
    "\n",
    "# Set-up\n",
    "\n",
    "\n",
    "1. Adiabatic Flask\n",
    "2. Heating element having a heating coil and a temperature sensor\n",
    "3. Temperature Display connected to the temperature sensor\n",
    "4. Magnetic stirrer and bead for homogenisation of the solution\n",
    "5. Timer - To keep track of time\n",
    "6. Voltage and Current regulator\n",
    "7. Acetone\n",
    "8. Measuring flask\n",
    "\n",
    "# Results\n",
    "\n",
    "## Raw Data\n",
    "\n",
    "**Table 1: Values of quantities used from literature**\n",
    "\n",
    "\\begin{table}[]\n",
    "    \\centering\n",
    "    \\begin{tabular}{|c|c|}\n",
    "        \\hline\n",
    "         Quantity&Value  \\\\\n",
    "         \\hline\n",
    "         Density of water&997\\(kg/m^3\\)\\\\\n",
    "         \\hline\n",
    "         Density of acetone&790\\(kg/m^3\\)\\\\\n",
    "         \\hline\n",
    "         Heat capacity of water at 20\\(^{\\circ}\\)C&1 cal/gK=4.186J/gK\\\\\n",
    "         \\hline\n",
    "    \\end{tabular}\n",
    "\\end{table}\n",
    "\n",
    "**Table 2: Volume of water and acetone required for making solutions of corresponding concentration**\n",
    "\n",
    "\\begin{table}[]\n",
    "    \\centering\n",
    "    \\begin{tabular}{|c|c|c|}\n",
    "         \\hline\n",
    "         Mole fraction of acetone&Volume of water (\\(V_w\\))&Volume of acetone (\\(V_a\\))\\\\\n",
    "         \\hline\n",
    "         0&150&0 \\\\\n",
    "         \\hline\n",
    "         0.1&\t102.94&\t47.06\\\\\n",
    "         \\hline\n",
    "         0.3&\t54.28&\t95.72\\\\\n",
    "         \\hline\n",
    "         0.5&\t29.4&\t120.6\\\\\n",
    "         \\hline\n",
    "         0.7&\t14.15&\t135.85\\\\\n",
    "         \\hline\n",
    "         0.9&\t3.95&\t146.05\\\\\n",
    "         \\hline\n",
    "    \\end{tabular}\n",
    "\\end{table}\n",
    "\n",
    "\n",
    "**Table 3: Measured quantities**\n",
    "\n",
    "<!-- \\includegraphics[width=\\linewidth]{data/data.jpg} -->\n",
    "\n",
    "## Calculations \n",
    "\n",
    "### Determining water equivalent (K) of the calorimeter\n",
    "\n",
    "The relevant equation is:\n",
    "\n",
    "\\begin{equation}\n",
    "    \\begin{split}\n",
    "        Q(input) &= m_wC_p\\Delta T+K\\Delta T\\\\\n",
    "        IVt&=\\rho_wV_wC_p\\Delta T+K\\Delta T\n",
    "    \\end{split}\n",
    "\\end{equation}\n",
    "\n",
    "where w represents 'water'. Substituting vales, $K=1275.22g=1.275$kg.\n",
    "\n",
    "### Volume of water and acetone required for Sample 1\n",
    "\n",
    "Let $n_1$\\& $n_2$ represent the number of moles of acetone and water respectively. For the first sample:\n",
    "\n",
    "\\begin{equation}\n",
    "    \\frac{n_1}{n_1+n_2}=x(=0.1/0.3/0.5/0.7/0.9)\n",
    "    \\implies (1-x)n_1=xn_2\n",
    "\\end{equation}\n",
    "\n",
    "If m and M represent mass and molar mass respectively:\n",
    "\n",
    "\\begin{equation}\n",
    "    \\begin{split}\n",
    "        \\frac{(1-x)m_1}{M_1}&=\\frac{xm_2}{M_2}\\\\\n",
    "        \\frac{(1-x)\\rho_1V_1}{M_1}&=\\frac{x\\rho_2V_2}{M_2}\n",
    "    \\end{split}\n",
    "\\end{equation}\n",
    "\n",
    "Further, since $V_1+V_2=150mL$, we have:\n",
    "\n",
    "\\begin{equation}\n",
    "    \\begin{split}\n",
    "        \\frac{(1-x)\\rho_1V_1}{M_1}&=\\frac{x\\rho_2(150-V_1)}{M_2}\n",
    "\\end{split}\n",
    "\\end{equation}\n",
    "\n",
    "Plugging in the values ($x=0.1$ for first sample) led to $V_1=47.06$mL. Similarly for other samples.\n",
    "\n",
    "### Mixing enthalpy for Sample 1\n",
    "\n",
    "The relevant equation is:\n",
    "\n",
    "\\begin{equation}\n",
    "    Q = (mCp+K)\\Delta T\\implies mCp+K=Q/2=IVt/2\n",
    "\\end{equation}\n",
    "\n",
    "Next, we also have:\n",
    "\n",
    "\\begin{equation}\n",
    "    \\begin{split}\n",
    "    Q_m=-(mCp+K)\\Delta T_m&=-IVt\\Delta T_m/2\\\\\n",
    "    \\therefore \\Delta H_m=\\frac{-IVt\\Delta T_m}{2(n_1+n_2)}\n",
    "    \\end{split}\n",
    "\\end{equation}\n",
    "\n",
    "For sample 1, the value obtained was $\\Delta H_m=-1923.98$J/mol\n",
    "\n",
    "### Partial molar enthalpies at $x_1=x_2=0.5$\n",
    "\n",
    "The requisite expressions:\n",
    "\n",
    "\\begin{equation}\n",
    "    \\begin{split}\n",
    "    H_{1p}&=\\Delta H_m+x_2\\frac{d\\Delta H_m}{dx_1}\\\\\n",
    "    H_{2p}&=\\Delta H_m-x_1\\frac{d\\Delta H_m}{dx_1}\n",
    "    \\end{split}\n",
    "\\end{equation}\n",
    "\n",
    "At $x_1=x_2=0.5, \\frac{d\\Delta H_m}{dx_1}=2294.17$J/mol and thus:\n",
    "\n",
    "\\begin{equation}\n",
    "    \\begin{split}\n",
    "        H_{1p}&=-1088.21+(0.5)(2294.17)=58.875J/mol\\\\\n",
    "        H_{2p}&=-1088.21-(0.5)(2294.17)=-2235.29J/mol\n",
    "    \\end{split}\n",
    "\\end{equation}\n",
    "\n",
    "### Infinite dilution partial molar enthalpies\n",
    "\n",
    "By letting the mole fractions tend to limits 1 and 0:\n",
    "\n",
    "\\begin{equation}\n",
    "    \\begin{split}\n",
    "        H_{1\\infty}(x_1\\to0)&=\\Delta H_m+(1)\\frac{d\\Delta H_m}{dx_1}=-31521.02J/mol\\\\\n",
    "        H_{2\\infty}(x_1\\to1)&=\\Delta H_m-(1)\\frac{d\\Delta H_m}{dx_1}=-4913.55J/mol\n",
    "    \\end{split}\n",
    "\\end{equation}\n",
    "\n",
    "**Table 4: Derived Quantities**\n",
    "\n",
    "<!-- \\includegraphics[width=\\linewidth]{data/derived.jpg} -->\n",
    "\n",
    "### Error Analysis\n",
    "\n",
    "**Table 5: Least Counts**\n",
    "\n",
    "\\begin{table}[]\n",
    "    \\centering\n",
    "    \\begin{tabular}{|c|c|}\n",
    "         \\hline\n",
    "         Instrument&Least Count \\\\\n",
    "         \\hline\n",
    "         Measuring Cylinder&1mL\\\\\n",
    "         \\hline\n",
    "         Pipette&0.02mL\\\\\n",
    "         \\hline\n",
    "         Stopwatch&0.167s\\\\\n",
    "         \\hline\n",
    "         Voltmeter&0.01V\\\\\n",
    "         \\hline\n",
    "         Ammeter&0.01A\\\\\n",
    "         \\hline\n",
    "         Temperature Sensor&0.1\\(^{\\circ}\\)\\\\\n",
    "         \\hline\n",
    "         Weighing Scale&0.1g\\\\\n",
    "         \\hline\n",
    "    \\end{tabular}\n",
    "\\end{table}\n",
    "\n",
    "\n",
    "The error propagation is:\n",
    "\n",
    "\\begin{equation}\n",
    "    \\begin{split}\n",
    "        \\frac{\\Delta k}{k}&=\\frac{\\Delta I}{I}+\\frac{\\Delta V}{V}+\\frac{\\Delta t}{t}+\\frac{\\Delta (\\Delta T)}{\\Delta T}+\\frac{\\Delta m}{m}\\\\\n",
    "        \\frac{\\Delta Cp}{Cp}&=\\frac{\\Delta k}{k}+\\frac{\\Delta I}{I}+\\frac{\\Delta V}{V}+\\frac{\\Delta t}{t}+\\frac{\\Delta (\\Delta T)}{\\Delta T}+\\frac{\\Delta m}{m} \\\\\n",
    "        \\frac{\\Delta (\\Delta H_m)}{\\Delta H_m}&=\\frac{\\Delta k}{k}+\\frac{\\Delta Cp}{Cp}+\\frac{\\Delta(\\Delta T)}{\\Delta T}+\\frac{\\Delta m}{m}\n",
    "    \\end{split}\n",
    "\\end{equation}\n",
    "\n",
    "Plugging in values and least count led to an error of 8.41% for the first sample.\n",
    "\n",
    " \n",
    "# Discussion\n",
    "\n",
    "## Observations\n",
    "\n",
    "1. Time taken to obtain 2$^{\\circ}$C rise in temperature of solution decreases with increase in mole fraction of acetone\n",
    "2. As concentration of acetone increases the enthalpy of mixing becomes less negative\n",
    "\n",
    "## Questions\n",
    "\n",
    "Perform the experiment to test the following hypotheses:\n",
    "\n",
    "1. The calorimeter functions adiabatically\n",
    "2. A temperature increase of 2$^{\\circ}$C is sufficient to estimate “K” with < 5% uncertainty (Uncertainty decreases if dynamic std-dev is used instead of least count)\n",
    "3. For a given 2-component system mixing can only be an exothermic or endothermic process\n",
    "4. Find the heat capacity of the pure component along with its uncertainty. Compare with literature value and comment\n",
    "5. Find the partial molar enthalpy of mixing at $x_1=x_2=0.5$ and at infinite dilution. \n",
    "\n",
    "## Hypotheses\n",
    "\n",
    "### Error in estimation of K\n",
    "\n",
    "Based on the data provided for calculating water equivalent and errors, the error in estimation was calculated as follows:\n",
    "\n",
    "\\begin{equation}\n",
    "    \\begin{split}\n",
    "        \\frac{\\Delta k}{k}&=\\frac{\\Delta I}{I}+\\frac{\\Delta V}{V}+\\frac{\\Delta t}{t}+\\frac{\\Delta (\\Delta T)}{\\Delta T}+\\frac{\\Delta m}{m}\\\\\n",
    "        \\frac{\\Delta k}{k}&=\\left[\\frac{0.01}{2.7}+\\frac{0.01}{16.3}+\\frac{0.167}{86.4}+\\frac{0.1}{2}+\\frac{0.1}{150\\times0.997}\\right]\\times100\\%=5.69\\%\\\\\n",
    "    \\end{split}\n",
    "\\end{equation}\n",
    "\n",
    "Thus, the hypothesis that a temperature rise of 2$^{\\circ}$C is enough to estimate K with $<5\\%$ accuracy is **incorrect**.\n",
    "\n",
    "### Heat of mixing\n",
    "\n",
    "Heat of mixing ($\\Delta H_m$) is defined as the change in enthalpy observed when two liquids are mixed, being the sum of the changes in enthalpy which occur during the mixing process. It primarily depends upon the interactions of the molecules of the substances involved and the ratio they are mixed in. \n",
    "Mixing enthalpy is zero if the mixture is ideal (if there are no interactions between the molecules). However, interactions between the two components can cause endothermic effects or exothermic effects depending on the relative attractions of molecules. In this case (water-acetone mixture), hydrogen bonding increases with increase in the concentration of acetone up to a certain concentration/mole fraction of acetone. However, as acetone molecules come to the surface, the hydrophobic acetone group forms clusters and hence reduces its contact with water.\n",
    "Till the point where no clusters are formed the hydrogen bonding will lead to release of energy hence making the process exothermic. But after a particlular concentration the clusters will lead to hydropibicity hence the mixing becomes endothermic. (*Although not visible in this data, trends suggest such a thing will happen*)\n",
    "\n",
    "\n",
    "### Heat Capacity of Acetone\n",
    "\n",
    "The heat capacity of a substance is defined as the quantity of heat required to raise its temperature by 1$^{\\circ}$C (equivalent to 1 K). It is observed that with increase in mole fraction of acetone, the time taken to achieve a set temperature rise of 2$^{\\circ}$C decreases - this indicates that the heat capacity of the mixture decreases with the increase in mole fraction of acetone. Heat capacity of the mixture can be considered a weighted average of heat capacities of the components (with the number of moles being the respective weights for total heat capacity and mole fractions being the weights for the molar heat capacity) and heat capacity decreases with increase in the weightage for acetone. Therefore, the heat capacity of acetone is less than the heat capacity of water. This is in fact true, since literature suggests heat capacity of acetone=$1.29$ J/g$.$K which is definitely less than water.\n",
    "\n",
    "*We have not calculated the specific heat of acetone since the data provided did not include values for 1M solution.*\n",
    "\n",
    "### Adiabatic Caloriemeter\n",
    "\n",
    "Since we have taken one observation for the water equivalence calculation it is difficult to conclude if the caloriemeter is adiabatic or not. It can be concluded that if any other parameter (m, Cp, deltaT) is changed then water equivalent should remain the same.\n",
    "\n",
    "# Code (Python)\n"
   ]
  },
  {
   "cell_type": "code",
   "execution_count": 1,
   "id": "cf47960d-d7ac-45e2-a42a-a05d6665245f",
   "metadata": {},
   "outputs": [],
   "source": [
    "import numpy as np\n",
    "import matplotlib.pyplot as plt\n",
    "from scipy import interpolate\n"
   ]
  },
  {
   "cell_type": "code",
   "execution_count": 2,
   "id": "9d153275-730d-4948-8c12-95e3d85be21a",
   "metadata": {},
   "outputs": [],
   "source": [
    "x_a = np.array([0.1, 0.3, 0.5, 0.7, 0.9])  # n_acetone / n_total\n",
    "V_a = np.array([47.06, 95.72, 120.6, 135.85, 146.05])\n",
    "m = np.array([139.9292, 129.5159, 124.1916, 120.9281, 118.7453])\n",
    "n = np.array([6.355755, 4.31094, 3.26542, 2.624577, 2.195948])\n",
    "T_i = np.array([29.2, 29.3, 29.2, 29.3, 29.3])\n",
    "T_mi = np.array([35.6, 33.4, 31.7, 30.3, 29.9])\n",
    "dT_m = 2\n",
    "\n",
    "delta_T_m = np.array([6.4, 4.1, 2.5, 1, 0.6])\n",
    "\n",
    "V = 16.4 # volts\n",
    "I = 2.7 # ampere\n",
    "\n",
    "t = np.array([86.3, 72.89, 64.2, 56.73, 49.8])\n"
   ]
  },
  {
   "cell_type": "code",
   "execution_count": 3,
   "id": "a3d87616-09fb-4a1d-9c1e-6b2fcd9e9dbf",
   "metadata": {},
   "outputs": [],
   "source": [
    "V_tot = 150\n",
    "\n",
    "M_a = 58\n",
    "rho_a = 784 # kg / m³\n",
    "\n",
    "M_w = 18\n",
    "rho_w = 997 # kg / m³"
   ]
  },
  {
   "cell_type": "code",
   "execution_count": 4,
   "id": "8d0dde30-a8d1-40a7-b195-9225a313829c",
   "metadata": {},
   "outputs": [
    {
     "data": {
      "text/plain": [
       "array([-1923.98303585, -1534.81998358, -1088.2122361 ,  -478.55414415,\n",
       "        -301.2563139 ])"
      ]
     },
     "execution_count": 4,
     "metadata": {},
     "output_type": "execute_result"
    }
   ],
   "source": [
    "dH_m = - I * V * t * delta_T_m / 2\n",
    "dH_m_permole = dH_m / n\n",
    "dH_m_permole"
   ]
  },
  {
   "cell_type": "code",
   "execution_count": 5,
   "id": "6064183a-8e6c-4418-891f-8c6cc09f22b9",
   "metadata": {},
   "outputs": [
    {
     "name": "stdout",
     "output_type": "stream",
     "text": [
      "Total error:  [15.28542981 17.16826619 20.39649475 32.50794362 45.97025081]\n",
      "Delta K by K [5.6963217  5.73766894 5.77199133 5.80841662 5.85090121]\n"
     ]
    }
   ],
   "source": [
    "LC_I = 0.01 # A\n",
    "LC_V = 0.01 # V\n",
    "LC_t = 0.167 # s\n",
    "LC_m = 0.1 # g\n",
    "LC_DT = 0.1 # deg C\n",
    "LC_V_a = 2\n",
    "\n",
    "# Testing hypothesis\n",
    "# Delta_DT = LC_DT / delta_T_m\n",
    "Delta_DT = 0.1 / 2 # 5 % error\n",
    "\n",
    "LC_k_by_k = LC_I / I + LC_V / V  + LC_t / t + Delta_DT + LC_m / m\n",
    "LC_Cp_by_Cp = LC_k_by_k + LC_I / I + LC_V / V  + LC_t / t + LC_DT / delta_T_m + LC_m / m\n",
    "\n",
    "LC_error = LC_k_by_k + LC_Cp_by_Cp + LC_DT / delta_T_m + LC_m / m\n",
    "print('Total error: ', LC_error * 100)\n",
    "print('Delta K by K', 100 * LC_k_by_k)\n"
   ]
  },
  {
   "cell_type": "code",
   "execution_count": 6,
   "id": "4b75972b-1cba-4255-be89-8d72a63529c0",
   "metadata": {},
   "outputs": [
    {
     "name": "stdout",
     "output_type": "stream",
     "text": [
      "[0.  0.1 0.3 0.5 0.7 0.9 1. ] [    0.         -1923.98303585 -1534.81998358 -1088.2122361\n",
      "  -478.55414415  -301.2563139      0.        ]\n"
     ]
    }
   ],
   "source": [
    "y = dH_m_permole\n",
    "y = np.append(y, 0)\n",
    "y = np.insert(y, 0, 0)\n",
    "\n",
    "x = x_a\n",
    "x = np.append(x, 1)\n",
    "x = np.insert(x, 0, 0)\n",
    "\n",
    "print(x, y)"
   ]
  },
  {
   "cell_type": "code",
   "execution_count": 7,
   "id": "db713cf7-186a-4430-b2af-b521cfc65ad6",
   "metadata": {},
   "outputs": [
    {
     "data": {
      "text/plain": [
       "Text(0, 0.5, 'Enthalpy of mixing (J/mol)')"
      ]
     },
     "execution_count": 7,
     "metadata": {},
     "output_type": "execute_result"
    },
    {
     "data": {
      "image/png": "[encoded data removed]",
      "text/plain": [
       "<Figure size 432x288 with 1 Axes>"
      ]
     },
     "metadata": {
      "needs_background": "light"
     },
     "output_type": "display_data"
    }
   ],
   "source": [
    "plt.plot(x, y, 'o-k')\n",
    "plt.title('Enthalpy of mixing vs mole fraction of acetone')\n",
    "plt.xlabel('Mole fraction of acetone')\n",
    "plt.ylabel('Enthalpy of mixing (J/mol)')\n"
   ]
  },
  {
   "cell_type": "code",
   "execution_count": 8,
   "id": "0c4403a3-4e6b-4a1c-ac68-8b5c9ff1079b",
   "metadata": {},
   "outputs": [
    {
     "data": {
      "text/plain": [
       "Text(0, 0.5, 'Enthalpy of mixing (J/mol)')"
      ]
     },
     "execution_count": 8,
     "metadata": {},
     "output_type": "execute_result"
    },
    {
     "data": {
      "image/png": "[encoded data removed]",
      "text/plain": [
       "<Figure size 432x288 with 1 Axes>"
      ]
     },
     "metadata": {
      "needs_background": "light"
     },
     "output_type": "display_data"
    }
   ],
   "source": [
    "a_BSpline = interpolate.make_interp_spline(x, y)\n",
    "\n",
    "x_inter = np.linspace(0, 1, 300)\n",
    "y_inter = a_BSpline(x_inter)\n",
    "\n",
    "plt.plot(x_inter, y_inter, '-b')\n",
    "plt.title('Enthalpy of mixing vs mole fraction of acetone (after interpolation)')\n",
    "plt.xlabel('Mole fraction of acetone')\n",
    "plt.ylabel('Enthalpy of mixing (J/mol)')"
   ]
  },
  {
   "cell_type": "code",
   "execution_count": 9,
   "id": "37eea533-3b62-4481-88be-cd06ec94d0ef",
   "metadata": {},
   "outputs": [
    {
     "name": "stdout",
     "output_type": "stream",
     "text": [
      "x: 0, slope:  -31521.026814679495\n",
      "x: 0.5, slope:  2294.1720273082487\n",
      "x: 1, slope:  4913.551030789136\n"
     ]
    }
   ],
   "source": [
    "def calcSlope(x, y, p):\n",
    "    return (y[p+1] - y[p]) / (x[p+1] - x[p])\n",
    "\n",
    "print('x: 0, slope: ', calcSlope(x_inter, y_inter, 0))\n",
    "print('x: 0.5, slope: ', calcSlope(x_inter, y_inter, 149))\n",
    "print('x: 1, slope: ', calcSlope(x_inter, y_inter, 298))"
   ]
  },
  {
   "cell_type": "code",
   "execution_count": null,
   "id": "56dee838-3cfa-413f-a649-f149198488ab",
   "metadata": {},
   "outputs": [],
   "source": []
  }
 ],
 "metadata": {
  "kernelspec": {
   "display_name": "Python 3",
   "language": "python",
   "name": "python3"
  },
  "language_info": {
   "codemirror_mode": {
    "name": "ipython",
    "version": 3
   },
   "file_extension": ".py",
   "mimetype": "text/x-python",
   "name": "python",
   "nbconvert_exporter": "python",
   "pygments_lexer": "ipython3",
   "version": "3.9.6"
  }
 },
 "nbformat": 4,
 "nbformat_minor": 5
}
